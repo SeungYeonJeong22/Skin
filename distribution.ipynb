{
 "cells": [
  {
   "cell_type": "code",
   "execution_count": 4,
   "metadata": {},
   "outputs": [
    {
     "data": {
      "text/plain": [
       "label\n",
       "접촉피부염    547\n",
       "정상피부     442\n",
       "두드러기     311\n",
       "건선       208\n",
       "백선증      199\n",
       "Name: count, dtype: int64"
      ]
     },
     "metadata": {},
     "output_type": "display_data"
    },
    {
     "data": {
      "text/plain": [
       "(label\n",
       " 접촉피부염    328\n",
       " 정상피부     265\n",
       " 두드러기     187\n",
       " 건선       125\n",
       " 백선증      119\n",
       " Name: count, dtype: int64,\n",
       " label\n",
       " 접촉피부염    109\n",
       " 정상피부      88\n",
       " 두드러기      62\n",
       " 건선        42\n",
       " 백선증       40\n",
       " Name: count, dtype: int64,\n",
       " label\n",
       " 접촉피부염    110\n",
       " 정상피부      89\n",
       " 두드러기      62\n",
       " 건선        41\n",
       " 백선증       40\n",
       " Name: count, dtype: int64)"
      ]
     },
     "execution_count": 4,
     "metadata": {},
     "output_type": "execute_result"
    }
   ],
   "source": [
    "import pandas as pd\n",
    "import numpy as np\n",
    "\n",
    "\n",
    "train_df = pd.read_csv('./data/ver5_bbox/train.csv')\n",
    "valid_df = pd.read_csv('./data/ver5_bbox/valid.csv')\n",
    "test_df = pd.read_csv('./data/ver5_bbox/test.csv')\n",
    "\n",
    "\n",
    "display(train_df['label'].value_counts() + valid_df['label'].value_counts() + test_df['label'].value_counts())\n",
    "train_df['label'].value_counts(), valid_df['label'].value_counts(), test_df['label'].value_counts()"
   ]
  },
  {
   "cell_type": "code",
   "execution_count": null,
   "metadata": {},
   "outputs": [],
   "source": []
  }
 ],
 "metadata": {
  "kernelspec": {
   "display_name": "skin",
   "language": "python",
   "name": "python3"
  },
  "language_info": {
   "codemirror_mode": {
    "name": "ipython",
    "version": 3
   },
   "file_extension": ".py",
   "mimetype": "text/x-python",
   "name": "python",
   "nbconvert_exporter": "python",
   "pygments_lexer": "ipython3",
   "version": "3.12.9"
  }
 },
 "nbformat": 4,
 "nbformat_minor": 2
}
